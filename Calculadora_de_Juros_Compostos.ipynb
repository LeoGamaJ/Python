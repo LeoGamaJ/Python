{
  "nbformat": 4,
  "nbformat_minor": 0,
  "metadata": {
    "colab": {
      "name": "Calculadora de Juros Compostos.ipynb",
      "provenance": [],
      "collapsed_sections": [],
      "authorship_tag": "ABX9TyOfHqBNrPedfpD10XlBXxlE",
      "include_colab_link": true
    },
    "kernelspec": {
      "name": "python3",
      "display_name": "Python 3"
    }
  },
  "cells": [
    {
      "cell_type": "markdown",
      "metadata": {
        "id": "view-in-github",
        "colab_type": "text"
      },
      "source": [
        "<a href=\"https://colab.research.google.com/github/LeoGamaJ/Python/blob/main/Calculadora_de_Juros_Compostos.ipynb\" target=\"_parent\"><img src=\"https://colab.research.google.com/assets/colab-badge.svg\" alt=\"Open In Colab\"/></a>"
      ]
    },
    {
      "cell_type": "code",
      "metadata": {
        "colab": {
          "base_uri": "https://localhost:8080/"
        },
        "id": "mYiujxNT7l3h",
        "outputId": "4d4b5204-c9bf-45e5-ca94-3cb5288fbc99"
      },
      "source": [
        "# Valor inicial aplicado\n",
        "vi = float( input('Valor inicial: ') )\n",
        "\n",
        "# Rentabilidade mensagem, em %\n",
        "i = float ( input('Rentabilidade mensal: ') )\n",
        "\n",
        "# Transformando a porcentagem em valor numérico\n",
        "i = i / 100\n",
        "\n",
        "# Tempo de investimento\n",
        "m = int( input('Meses que vai deixar rendendo: ') )\n",
        "\n",
        "vf = vi * (1+i)**m\n",
        "\n",
        "print('Valor apos ',m,' meses: R$ ',vf)\n"
      ],
      "execution_count": null,
      "outputs": [
        {
          "output_type": "stream",
          "text": [
            "Valor inicial: 10\n",
            "Rentabilidade mensal: 1.40\n",
            "Meses que vai deixar rendendo: 10\n",
            "Valor apos  10  meses: R$  11.49157484485567\n"
          ],
          "name": "stdout"
        }
      ]
    },
    {
      "cell_type": "code",
      "metadata": {
        "colab": {
          "base_uri": "https://localhost:8080/"
        },
        "id": "TAfoDzVR78e-",
        "outputId": "9f9beedd-204b-4c59-a3b4-0ff6a8db6f35"
      },
      "source": [
        "# Função \n",
        "\n",
        "def calc_juros_compostos(principal, periodo, juros): \n",
        "    \"\"\" CALCULADORA DE JUROS COMPOSTOS \"\"\"\n",
        "    montante = principal * ((1 + juros/100)**periodo)\n",
        "    juros = montante-principal\n",
        "\n",
        "    return print(\"O montante final foi de: \" + str(\"R$ %.2f\" % montante)+\".\\nOs juros foram de: \"+ str(\"R$ %.2f\" % juros))\n",
        "\n",
        "calc_juros_compostos(100, 10, 30)"
      ],
      "execution_count": null,
      "outputs": [
        {
          "output_type": "stream",
          "text": [
            "O montante final foi de: R$ 1378.58.\n",
            "Os juros foram de: R$ 1278.58\n"
          ],
          "name": "stdout"
        }
      ]
    }
  ]
}